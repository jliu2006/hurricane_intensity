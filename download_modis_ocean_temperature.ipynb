{
 "cells": [
  {
   "cell_type": "code",
   "execution_count": null,
   "id": "21f9bda8",
   "metadata": {},
   "outputs": [],
   "source": [
    "#data source\n",
    "#https://search.earthdata.nasa.gov/search/granules?p=C1940475563-POCLOUD&pg[0][v]=f&pg[0][gsk]=start_date&g=G1996941394-POCLOUD&tl=1666010677.42!3!!&lat=78.609375&long=0.140625&zoom=1"
   ]
  }
 ],
 "metadata": {
  "kernelspec": {
   "display_name": "Python 3",
   "language": "python",
   "name": "python3"
  },
  "language_info": {
   "codemirror_mode": {
    "name": "ipython",
    "version": 3
   },
   "file_extension": ".py",
   "mimetype": "text/x-python",
   "name": "python",
   "nbconvert_exporter": "python",
   "pygments_lexer": "ipython3",
   "version": "3.6.8"
  }
 },
 "nbformat": 4,
 "nbformat_minor": 5
}
