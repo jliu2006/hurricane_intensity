{
 "cells": [
  {
   "cell_type": "code",
   "execution_count": 4,
   "id": "60fb975c",
   "metadata": {},
   "outputs": [],
   "source": [
    "import json\n",
    "import datetime\n",
    "\n",
    "def getDayPosition(json_profile):\n",
    "    with open(json_profile) as json_file:\n",
    "        data = json.load(json_file)\n",
    "        # hurricane_days['ID'] = []\n",
    "        # hurricane_days['ID'].append(data['id'])\n",
    "\n",
    "    date_set = set() # set to avoid duplicates\n",
    "    long_lat = []\n",
    "    for path in data['path']:\n",
    "        str_date = str(path['date'])\n",
    "        # separate date into year month day to add hypens in between\n",
    "        year = str_date[0:4]\n",
    "        month = str_date[4:6]\n",
    "        day = str_date[6:8]\n",
    "        new_date = year + '-' + month + '-' + day\n",
    "        date_set.add(new_date)\n",
    "\n",
    "        # trying to add 1 to datetime -- wrong format?\n",
    "        #start_day = datetime.datetime.strptime(new_date, '%y-%m-%d')\n",
    "        #end_day = start_day + datetime.timedelta(days=1)\n",
    "\n",
    "        # trying to create dictionary so that when I add a new set of long/lat coords to a date, \n",
    "            # the function will check if there is already a set of coords\n",
    "            # if there is, it will move to the next date and coord pair\n",
    "        # hurricane_days['ID'][0] = []\n",
    "        # hurricane_days['ID'][0].append(new_date)\n",
    "\n",
    "        long = path['lg'][0:4]\n",
    "        lat = path['lt'][0:4]\n",
    "        long_lat.append([long, lat])\n",
    "\n",
    "    return date_set, long_lat"
   ]
  },
  {
   "cell_type": "code",
   "execution_count": 3,
   "id": "4fdec951",
   "metadata": {},
   "outputs": [],
   "source": [
    "#getDayPosition('/home/fun/data/AL182012/profile.json')"
   ]
  },
  {
   "cell_type": "code",
   "execution_count": null,
   "id": "29653e4e",
   "metadata": {},
   "outputs": [],
   "source": [
    "#create a function that takes HDF5 lists  and output into \n",
    "'/home/fun/hurricane_intensity/3B-HHR.MS.MRG.3IMERG.20121021-S170000-E172959.1020.V06B.HDF5'"
   ]
  },
  {
   "cell_type": "raw",
   "id": "174d0bde",
   "metadata": {},
   "source": []
  }
 ],
 "metadata": {
  "kernelspec": {
   "display_name": "Python 3",
   "language": "python",
   "name": "python3"
  },
  "language_info": {
   "codemirror_mode": {
    "name": "ipython",
    "version": 3
   },
   "file_extension": ".py",
   "mimetype": "text/x-python",
   "name": "python",
   "nbconvert_exporter": "python",
   "pygments_lexer": "ipython3",
   "version": "3.6.8"
  }
 },
 "nbformat": 4,
 "nbformat_minor": 5
}
