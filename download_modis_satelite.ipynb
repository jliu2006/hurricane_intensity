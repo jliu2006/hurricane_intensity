{
 "cells": [
  {
   "cell_type": "code",
   "execution_count": 3,
   "id": "2c725acd",
   "metadata": {},
   "outputs": [
    {
     "ename": "ModuleNotFoundError",
     "evalue": "No module named 'modis_tools'",
     "output_type": "error",
     "traceback": [
      "\u001b[0;31m---------------------------------------------------------------------------\u001b[0m",
      "\u001b[0;31mModuleNotFoundError\u001b[0m                       Traceback (most recent call last)",
      "\u001b[0;32m<ipython-input-3-5cb9f8fa5110>\u001b[0m in \u001b[0;36m<module>\u001b[0;34m\u001b[0m\n\u001b[1;32m      4\u001b[0m \u001b[0;34m\u001b[0m\u001b[0m\n\u001b[1;32m      5\u001b[0m \u001b[0;34m\u001b[0m\u001b[0m\n\u001b[0;32m----> 6\u001b[0;31m \u001b[0;32mfrom\u001b[0m \u001b[0mmodis_tools\u001b[0m\u001b[0;34m.\u001b[0m\u001b[0mauth\u001b[0m \u001b[0;32mimport\u001b[0m \u001b[0mModisSession\u001b[0m\u001b[0;34m\u001b[0m\u001b[0;34m\u001b[0m\u001b[0m\n\u001b[0m\u001b[1;32m      7\u001b[0m \u001b[0;32mfrom\u001b[0m \u001b[0mmodis_tools\u001b[0m\u001b[0;34m.\u001b[0m\u001b[0mresources\u001b[0m \u001b[0;32mimport\u001b[0m \u001b[0mCollectionApi\u001b[0m\u001b[0;34m,\u001b[0m \u001b[0mGranuleApi\u001b[0m\u001b[0;34m\u001b[0m\u001b[0;34m\u001b[0m\u001b[0m\n\u001b[1;32m      8\u001b[0m \u001b[0;32mfrom\u001b[0m \u001b[0mmodis_tools\u001b[0m\u001b[0;34m.\u001b[0m\u001b[0mgranule_handler\u001b[0m \u001b[0;32mimport\u001b[0m \u001b[0mGranuleHandler\u001b[0m\u001b[0;34m\u001b[0m\u001b[0;34m\u001b[0m\u001b[0m\n",
      "\u001b[0;31mModuleNotFoundError\u001b[0m: No module named 'modis_tools'"
     ]
    }
   ],
   "source": [
    "#download modis satelite image by date \n",
    "#python3.9 ./download_modis.py\n",
    "\n",
    "\n",
    "from modis_tools.auth import ModisSession\n",
    "from modis_tools.resources import CollectionApi, GranuleApi\n",
    "from modis_tools.granule_handler import GranuleHandler\n",
    "\n",
    "\n"
   ]
  },
  {
   "cell_type": "code",
   "execution_count": null,
   "id": "a0cbc0ed",
   "metadata": {},
   "outputs": [],
   "source": [
    "\n",
    "def getWorldFile():\n",
    "\n",
    "    username = \"lxg0601\"  # Update this line\n",
    "    password = \"Xian2021\"  # Update this line\n",
    "    \n",
    "    # Authenticate a session\n",
    "    session = ModisSession(username=username, password=password)\n",
    "\n",
    "    # Query the MODIS catalog for collections\n",
    "    collection_client = CollectionApi(session=session)\n",
    "\n",
    "    collections = collection_client.query(short_name=\"MOD09CMG\", version=\"006\")\n",
    "\n",
    "    # Query the selected collection for granules\n",
    "    granule_client = GranuleApi.from_collection(collections[0], session=session)\n",
    "\n",
    "    # Filter the selected granules via spatial and temporal parameters\n",
    "    nigeria_bbox = [-76, 14, -60, 20]\n",
    "    nigeria_granules = granule_client.query(start_date=\"2012-10-24\", end_date=\"2012-10-25\", bounding_box=nigeria_bbox)\n",
    "\n",
    "    # Download the granules\n",
    "    GranuleHandler.download_from_granules(nigeria_granules, session)"
   ]
  }
 ],
 "metadata": {
  "kernelspec": {
   "display_name": "Python 3",
   "language": "python",
   "name": "python3"
  },
  "language_info": {
   "codemirror_mode": {
    "name": "ipython",
    "version": 3
   },
   "file_extension": ".py",
   "mimetype": "text/x-python",
   "name": "python",
   "nbconvert_exporter": "python",
   "pygments_lexer": "ipython3",
   "version": "3.6.8"
  }
 },
 "nbformat": 4,
 "nbformat_minor": 5
}
